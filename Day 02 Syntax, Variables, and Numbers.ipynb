{
 "cells": [
  {
   "cell_type": "code",
   "execution_count": 8,
   "id": "86f6d01f",
   "metadata": {},
   "outputs": [
    {
     "name": "stdout",
     "output_type": "stream",
     "text": [
      "0\n"
     ]
    }
   ],
   "source": [
    "spam_amount = 0\n",
    "print(spam_amount)"
   ]
  },
  {
   "cell_type": "code",
   "execution_count": 9,
   "id": "f9b6304f",
   "metadata": {},
   "outputs": [
    {
     "data": {
      "text/plain": [
       "4"
      ]
     },
     "execution_count": 9,
     "metadata": {},
     "output_type": "execute_result"
    }
   ],
   "source": [
    "spam_amount = spam_amount + 4\n",
    "spam_amount"
   ]
  },
  {
   "cell_type": "code",
   "execution_count": 10,
   "id": "d0c10556",
   "metadata": {},
   "outputs": [
    {
     "name": "stdout",
     "output_type": "stream",
     "text": [
      "xd\n"
     ]
    }
   ],
   "source": [
    "if spam_amount > 0:\n",
    "    print(\"xd\")"
   ]
  },
  {
   "cell_type": "code",
   "execution_count": 11,
   "id": "f5e10484",
   "metadata": {},
   "outputs": [],
   "source": [
    "viking_song = \"Spam \" * spam_amount"
   ]
  },
  {
   "cell_type": "code",
   "execution_count": 12,
   "id": "95c4e5f6",
   "metadata": {},
   "outputs": [
    {
     "data": {
      "text/plain": [
       "'Spam Spam Spam Spam '"
      ]
     },
     "execution_count": 12,
     "metadata": {},
     "output_type": "execute_result"
    }
   ],
   "source": [
    "viking_song"
   ]
  },
  {
   "cell_type": "code",
   "execution_count": 13,
   "id": "37b90be2",
   "metadata": {},
   "outputs": [
    {
     "name": "stdout",
     "output_type": "stream",
     "text": [
      "12\n"
     ]
    }
   ],
   "source": [
    "print(spam_amount * 3)"
   ]
  },
  {
   "cell_type": "code",
   "execution_count": 14,
   "id": "8b3e0949",
   "metadata": {},
   "outputs": [
    {
     "data": {
      "text/plain": [
       "int"
      ]
     },
     "execution_count": 14,
     "metadata": {},
     "output_type": "execute_result"
    }
   ],
   "source": [
    "type(spam_amount)"
   ]
  },
  {
   "cell_type": "code",
   "execution_count": 15,
   "id": "7ea3c4c1",
   "metadata": {},
   "outputs": [
    {
     "data": {
      "text/plain": [
       "str"
      ]
     },
     "execution_count": 15,
     "metadata": {},
     "output_type": "execute_result"
    }
   ],
   "source": [
    "type(\"Hey\")"
   ]
  },
  {
   "cell_type": "code",
   "execution_count": 16,
   "id": "6f71c9cc",
   "metadata": {},
   "outputs": [
    {
     "data": {
      "text/plain": [
       "list"
      ]
     },
     "execution_count": 16,
     "metadata": {},
     "output_type": "execute_result"
    }
   ],
   "source": [
    "type([1,2,3])"
   ]
  },
  {
   "cell_type": "code",
   "execution_count": 17,
   "id": "e00d65ff",
   "metadata": {},
   "outputs": [
    {
     "data": {
      "text/plain": [
       "dict"
      ]
     },
     "execution_count": 17,
     "metadata": {},
     "output_type": "execute_result"
    }
   ],
   "source": [
    "type({\"a\": \"b\"})"
   ]
  },
  {
   "cell_type": "code",
   "execution_count": 18,
   "id": "b6e839c0",
   "metadata": {},
   "outputs": [
    {
     "name": "stdout",
     "output_type": "stream",
     "text": [
      "2.5\n",
      "3.0\n"
     ]
    }
   ],
   "source": [
    "print(5/2)\n",
    "print(6/2)"
   ]
  },
  {
   "cell_type": "code",
   "execution_count": 19,
   "id": "310629b8",
   "metadata": {},
   "outputs": [
    {
     "name": "stdout",
     "output_type": "stream",
     "text": [
      "2\n",
      "3\n"
     ]
    }
   ],
   "source": [
    "print(5//2)\n",
    "print(6//2)"
   ]
  },
  {
   "cell_type": "code",
   "execution_count": 20,
   "id": "eb4bd7e6",
   "metadata": {},
   "outputs": [
    {
     "name": "stdout",
     "output_type": "stream",
     "text": [
      "1\n"
     ]
    }
   ],
   "source": [
    "print(min(1,2,3))"
   ]
  },
  {
   "cell_type": "code",
   "execution_count": 21,
   "id": "e47f7863",
   "metadata": {},
   "outputs": [
    {
     "name": "stdout",
     "output_type": "stream",
     "text": [
      "6\n"
     ]
    }
   ],
   "source": [
    "print(max(4,5,6))"
   ]
  },
  {
   "cell_type": "code",
   "execution_count": 22,
   "id": "3983dcec",
   "metadata": {},
   "outputs": [
    {
     "data": {
      "text/plain": [
       "1"
      ]
     },
     "execution_count": 22,
     "metadata": {},
     "output_type": "execute_result"
    }
   ],
   "source": [
    "min([1,2,3])"
   ]
  },
  {
   "cell_type": "code",
   "execution_count": 23,
   "id": "7bd13bc5",
   "metadata": {},
   "outputs": [
    {
     "data": {
      "text/plain": [
       "3.0"
      ]
     },
     "execution_count": 23,
     "metadata": {},
     "output_type": "execute_result"
    }
   ],
   "source": [
    "float(3)"
   ]
  },
  {
   "cell_type": "code",
   "execution_count": 24,
   "id": "bb8df003",
   "metadata": {},
   "outputs": [
    {
     "data": {
      "text/plain": [
       "3"
      ]
     },
     "execution_count": 24,
     "metadata": {},
     "output_type": "execute_result"
    }
   ],
   "source": [
    "int(3.6)"
   ]
  },
  {
   "cell_type": "code",
   "execution_count": 25,
   "id": "86fd0c43",
   "metadata": {},
   "outputs": [],
   "source": [
    "color = \"Blue\""
   ]
  },
  {
   "cell_type": "code",
   "execution_count": 26,
   "id": "f5852bd8",
   "metadata": {},
   "outputs": [],
   "source": [
    "pi = 3.14\n",
    "diameter = 3"
   ]
  },
  {
   "cell_type": "code",
   "execution_count": 27,
   "id": "144b4352",
   "metadata": {},
   "outputs": [],
   "source": [
    "radius = diameter / 2"
   ]
  },
  {
   "cell_type": "code",
   "execution_count": 30,
   "id": "89eda7e0",
   "metadata": {},
   "outputs": [
    {
     "data": {
      "text/plain": [
       "7.065"
      ]
     },
     "execution_count": 30,
     "metadata": {},
     "output_type": "execute_result"
    }
   ],
   "source": [
    "area = pi * (radius ** 2)\n",
    "area"
   ]
  },
  {
   "cell_type": "code",
   "execution_count": 31,
   "id": "a7c91ee4",
   "metadata": {},
   "outputs": [],
   "source": [
    "a = 3\n",
    "b = 5 "
   ]
  },
  {
   "cell_type": "code",
   "execution_count": 32,
   "id": "a12ff1ec",
   "metadata": {},
   "outputs": [],
   "source": [
    "tmp = b\n",
    "b = a \n",
    "a = tmp"
   ]
  },
  {
   "cell_type": "code",
   "execution_count": 34,
   "id": "3e44efd7",
   "metadata": {},
   "outputs": [
    {
     "data": {
      "text/plain": [
       "(5, 3)"
      ]
     },
     "execution_count": 34,
     "metadata": {},
     "output_type": "execute_result"
    }
   ],
   "source": [
    "a,b"
   ]
  },
  {
   "cell_type": "code",
   "execution_count": 35,
   "id": "7182d11b",
   "metadata": {},
   "outputs": [],
   "source": [
    "a,b = b,a"
   ]
  },
  {
   "cell_type": "code",
   "execution_count": 36,
   "id": "0ecaa0ff",
   "metadata": {},
   "outputs": [
    {
     "data": {
      "text/plain": [
       "(3, 5)"
      ]
     },
     "execution_count": 36,
     "metadata": {},
     "output_type": "execute_result"
    }
   ],
   "source": [
    "a,b"
   ]
  },
  {
   "cell_type": "code",
   "execution_count": 39,
   "id": "bb7a4c4b",
   "metadata": {},
   "outputs": [],
   "source": [
    "alice_candies = 121\n",
    "bob_candies = 77\n",
    "carol_candies = 109\n",
    "\n",
    "to_smash = (alice_candies + bob_candies + carol_candies) % 3"
   ]
  },
  {
   "cell_type": "code",
   "execution_count": 40,
   "id": "cbd6c6be",
   "metadata": {},
   "outputs": [
    {
     "data": {
      "text/plain": [
       "1"
      ]
     },
     "execution_count": 40,
     "metadata": {},
     "output_type": "execute_result"
    }
   ],
   "source": [
    "to_smash"
   ]
  },
  {
   "cell_type": "code",
   "execution_count": null,
   "id": "c3864c71",
   "metadata": {},
   "outputs": [],
   "source": []
  }
 ],
 "metadata": {
  "kernelspec": {
   "display_name": "Python 3 (ipykernel)",
   "language": "python",
   "name": "python3"
  },
  "language_info": {
   "codemirror_mode": {
    "name": "ipython",
    "version": 3
   },
   "file_extension": ".py",
   "mimetype": "text/x-python",
   "name": "python",
   "nbconvert_exporter": "python",
   "pygments_lexer": "ipython3",
   "version": "3.9.6"
  }
 },
 "nbformat": 4,
 "nbformat_minor": 5
}

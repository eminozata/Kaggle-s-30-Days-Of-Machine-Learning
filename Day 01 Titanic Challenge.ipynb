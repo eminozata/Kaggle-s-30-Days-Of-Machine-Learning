{
 "cells": [
  {
   "cell_type": "code",
   "execution_count": 1,
   "id": "1e917ad9",
   "metadata": {
    "_cell_guid": "b1076dfc-b9ad-4769-8c92-a6c4dae69d19",
    "_uuid": "8f2839f25d086af736a60e9eeb907d3b93b6e0e5",
    "execution": {
     "iopub.execute_input": "2021-08-14T22:17:52.339719Z",
     "iopub.status.busy": "2021-08-14T22:17:52.338528Z",
     "iopub.status.idle": "2021-08-14T22:17:53.538140Z",
     "shell.execute_reply": "2021-08-14T22:17:53.537351Z",
     "shell.execute_reply.started": "2021-08-14T22:09:25.757095Z"
    },
    "papermill": {
     "duration": 1.215456,
     "end_time": "2021-08-14T22:17:53.538337",
     "exception": false,
     "start_time": "2021-08-14T22:17:52.322881",
     "status": "completed"
    },
    "tags": []
   },
   "outputs": [],
   "source": [
    "import numpy as np # linear algebra\n",
    "import pandas as pd # data processing, CSV file I/O (e.g. pd.read_csv)\n",
    "from sklearn.ensemble import RandomForestClassifier"
   ]
  },
  {
   "cell_type": "code",
   "execution_count": 2,
   "id": "c79a724f",
   "metadata": {
    "execution": {
     "iopub.execute_input": "2021-08-14T22:17:53.568635Z",
     "iopub.status.busy": "2021-08-14T22:17:53.567803Z",
     "iopub.status.idle": "2021-08-14T22:17:53.584728Z",
     "shell.execute_reply": "2021-08-14T22:17:53.584052Z",
     "shell.execute_reply.started": "2021-08-14T22:01:07.166106Z"
    },
    "papermill": {
     "duration": 0.032854,
     "end_time": "2021-08-14T22:17:53.584864",
     "exception": false,
     "start_time": "2021-08-14T22:17:53.552010",
     "status": "completed"
    },
    "tags": []
   },
   "outputs": [],
   "source": [
    "train_data = pd.read_csv(\"/kaggle/input/titanic/train.csv\")"
   ]
  },
  {
   "cell_type": "code",
   "execution_count": 3,
   "id": "af0cc0ec",
   "metadata": {
    "execution": {
     "iopub.execute_input": "2021-08-14T22:17:53.618145Z",
     "iopub.status.busy": "2021-08-14T22:17:53.617503Z",
     "iopub.status.idle": "2021-08-14T22:17:53.641495Z",
     "shell.execute_reply": "2021-08-14T22:17:53.640847Z",
     "shell.execute_reply.started": "2021-08-14T22:01:15.323809Z"
    },
    "papermill": {
     "duration": 0.04547,
     "end_time": "2021-08-14T22:17:53.641631",
     "exception": false,
     "start_time": "2021-08-14T22:17:53.596161",
     "status": "completed"
    },
    "tags": []
   },
   "outputs": [
    {
     "data": {
      "text/html": [
       "<div>\n",
       "<style scoped>\n",
       "    .dataframe tbody tr th:only-of-type {\n",
       "        vertical-align: middle;\n",
       "    }\n",
       "\n",
       "    .dataframe tbody tr th {\n",
       "        vertical-align: top;\n",
       "    }\n",
       "\n",
       "    .dataframe thead th {\n",
       "        text-align: right;\n",
       "    }\n",
       "</style>\n",
       "<table border=\"1\" class=\"dataframe\">\n",
       "  <thead>\n",
       "    <tr style=\"text-align: right;\">\n",
       "      <th></th>\n",
       "      <th>PassengerId</th>\n",
       "      <th>Survived</th>\n",
       "      <th>Pclass</th>\n",
       "      <th>Name</th>\n",
       "      <th>Sex</th>\n",
       "      <th>Age</th>\n",
       "      <th>SibSp</th>\n",
       "      <th>Parch</th>\n",
       "      <th>Ticket</th>\n",
       "      <th>Fare</th>\n",
       "      <th>Cabin</th>\n",
       "      <th>Embarked</th>\n",
       "    </tr>\n",
       "  </thead>\n",
       "  <tbody>\n",
       "    <tr>\n",
       "      <th>0</th>\n",
       "      <td>1</td>\n",
       "      <td>0</td>\n",
       "      <td>3</td>\n",
       "      <td>Braund, Mr. Owen Harris</td>\n",
       "      <td>male</td>\n",
       "      <td>22.0</td>\n",
       "      <td>1</td>\n",
       "      <td>0</td>\n",
       "      <td>A/5 21171</td>\n",
       "      <td>7.2500</td>\n",
       "      <td>NaN</td>\n",
       "      <td>S</td>\n",
       "    </tr>\n",
       "    <tr>\n",
       "      <th>1</th>\n",
       "      <td>2</td>\n",
       "      <td>1</td>\n",
       "      <td>1</td>\n",
       "      <td>Cumings, Mrs. John Bradley (Florence Briggs Th...</td>\n",
       "      <td>female</td>\n",
       "      <td>38.0</td>\n",
       "      <td>1</td>\n",
       "      <td>0</td>\n",
       "      <td>PC 17599</td>\n",
       "      <td>71.2833</td>\n",
       "      <td>C85</td>\n",
       "      <td>C</td>\n",
       "    </tr>\n",
       "    <tr>\n",
       "      <th>2</th>\n",
       "      <td>3</td>\n",
       "      <td>1</td>\n",
       "      <td>3</td>\n",
       "      <td>Heikkinen, Miss. Laina</td>\n",
       "      <td>female</td>\n",
       "      <td>26.0</td>\n",
       "      <td>0</td>\n",
       "      <td>0</td>\n",
       "      <td>STON/O2. 3101282</td>\n",
       "      <td>7.9250</td>\n",
       "      <td>NaN</td>\n",
       "      <td>S</td>\n",
       "    </tr>\n",
       "    <tr>\n",
       "      <th>3</th>\n",
       "      <td>4</td>\n",
       "      <td>1</td>\n",
       "      <td>1</td>\n",
       "      <td>Futrelle, Mrs. Jacques Heath (Lily May Peel)</td>\n",
       "      <td>female</td>\n",
       "      <td>35.0</td>\n",
       "      <td>1</td>\n",
       "      <td>0</td>\n",
       "      <td>113803</td>\n",
       "      <td>53.1000</td>\n",
       "      <td>C123</td>\n",
       "      <td>S</td>\n",
       "    </tr>\n",
       "    <tr>\n",
       "      <th>4</th>\n",
       "      <td>5</td>\n",
       "      <td>0</td>\n",
       "      <td>3</td>\n",
       "      <td>Allen, Mr. William Henry</td>\n",
       "      <td>male</td>\n",
       "      <td>35.0</td>\n",
       "      <td>0</td>\n",
       "      <td>0</td>\n",
       "      <td>373450</td>\n",
       "      <td>8.0500</td>\n",
       "      <td>NaN</td>\n",
       "      <td>S</td>\n",
       "    </tr>\n",
       "  </tbody>\n",
       "</table>\n",
       "</div>"
      ],
      "text/plain": [
       "   PassengerId  Survived  Pclass  \\\n",
       "0            1         0       3   \n",
       "1            2         1       1   \n",
       "2            3         1       3   \n",
       "3            4         1       1   \n",
       "4            5         0       3   \n",
       "\n",
       "                                                Name     Sex   Age  SibSp  \\\n",
       "0                            Braund, Mr. Owen Harris    male  22.0      1   \n",
       "1  Cumings, Mrs. John Bradley (Florence Briggs Th...  female  38.0      1   \n",
       "2                             Heikkinen, Miss. Laina  female  26.0      0   \n",
       "3       Futrelle, Mrs. Jacques Heath (Lily May Peel)  female  35.0      1   \n",
       "4                           Allen, Mr. William Henry    male  35.0      0   \n",
       "\n",
       "   Parch            Ticket     Fare Cabin Embarked  \n",
       "0      0         A/5 21171   7.2500   NaN        S  \n",
       "1      0          PC 17599  71.2833   C85        C  \n",
       "2      0  STON/O2. 3101282   7.9250   NaN        S  \n",
       "3      0            113803  53.1000  C123        S  \n",
       "4      0            373450   8.0500   NaN        S  "
      ]
     },
     "execution_count": 3,
     "metadata": {},
     "output_type": "execute_result"
    }
   ],
   "source": [
    "train_data.head()"
   ]
  },
  {
   "cell_type": "code",
   "execution_count": 4,
   "id": "6118d438",
   "metadata": {
    "execution": {
     "iopub.execute_input": "2021-08-14T22:17:53.670062Z",
     "iopub.status.busy": "2021-08-14T22:17:53.669414Z",
     "iopub.status.idle": "2021-08-14T22:17:53.680230Z",
     "shell.execute_reply": "2021-08-14T22:17:53.680734Z",
     "shell.execute_reply.started": "2021-08-14T22:01:59.701754Z"
    },
    "papermill": {
     "duration": 0.02726,
     "end_time": "2021-08-14T22:17:53.680896",
     "exception": false,
     "start_time": "2021-08-14T22:17:53.653636",
     "status": "completed"
    },
    "tags": []
   },
   "outputs": [],
   "source": [
    "test_data = pd.read_csv(\"/kaggle/input/titanic/test.csv\")"
   ]
  },
  {
   "cell_type": "code",
   "execution_count": 5,
   "id": "d916ff33",
   "metadata": {
    "execution": {
     "iopub.execute_input": "2021-08-14T22:17:53.720269Z",
     "iopub.status.busy": "2021-08-14T22:17:53.719636Z",
     "iopub.status.idle": "2021-08-14T22:17:53.723590Z",
     "shell.execute_reply": "2021-08-14T22:17:53.724053Z",
     "shell.execute_reply.started": "2021-08-14T22:02:05.874776Z"
    },
    "papermill": {
     "duration": 0.031693,
     "end_time": "2021-08-14T22:17:53.724232",
     "exception": false,
     "start_time": "2021-08-14T22:17:53.692539",
     "status": "completed"
    },
    "tags": []
   },
   "outputs": [
    {
     "data": {
      "text/html": [
       "<div>\n",
       "<style scoped>\n",
       "    .dataframe tbody tr th:only-of-type {\n",
       "        vertical-align: middle;\n",
       "    }\n",
       "\n",
       "    .dataframe tbody tr th {\n",
       "        vertical-align: top;\n",
       "    }\n",
       "\n",
       "    .dataframe thead th {\n",
       "        text-align: right;\n",
       "    }\n",
       "</style>\n",
       "<table border=\"1\" class=\"dataframe\">\n",
       "  <thead>\n",
       "    <tr style=\"text-align: right;\">\n",
       "      <th></th>\n",
       "      <th>PassengerId</th>\n",
       "      <th>Pclass</th>\n",
       "      <th>Name</th>\n",
       "      <th>Sex</th>\n",
       "      <th>Age</th>\n",
       "      <th>SibSp</th>\n",
       "      <th>Parch</th>\n",
       "      <th>Ticket</th>\n",
       "      <th>Fare</th>\n",
       "      <th>Cabin</th>\n",
       "      <th>Embarked</th>\n",
       "    </tr>\n",
       "  </thead>\n",
       "  <tbody>\n",
       "    <tr>\n",
       "      <th>0</th>\n",
       "      <td>892</td>\n",
       "      <td>3</td>\n",
       "      <td>Kelly, Mr. James</td>\n",
       "      <td>male</td>\n",
       "      <td>34.5</td>\n",
       "      <td>0</td>\n",
       "      <td>0</td>\n",
       "      <td>330911</td>\n",
       "      <td>7.8292</td>\n",
       "      <td>NaN</td>\n",
       "      <td>Q</td>\n",
       "    </tr>\n",
       "    <tr>\n",
       "      <th>1</th>\n",
       "      <td>893</td>\n",
       "      <td>3</td>\n",
       "      <td>Wilkes, Mrs. James (Ellen Needs)</td>\n",
       "      <td>female</td>\n",
       "      <td>47.0</td>\n",
       "      <td>1</td>\n",
       "      <td>0</td>\n",
       "      <td>363272</td>\n",
       "      <td>7.0000</td>\n",
       "      <td>NaN</td>\n",
       "      <td>S</td>\n",
       "    </tr>\n",
       "    <tr>\n",
       "      <th>2</th>\n",
       "      <td>894</td>\n",
       "      <td>2</td>\n",
       "      <td>Myles, Mr. Thomas Francis</td>\n",
       "      <td>male</td>\n",
       "      <td>62.0</td>\n",
       "      <td>0</td>\n",
       "      <td>0</td>\n",
       "      <td>240276</td>\n",
       "      <td>9.6875</td>\n",
       "      <td>NaN</td>\n",
       "      <td>Q</td>\n",
       "    </tr>\n",
       "    <tr>\n",
       "      <th>3</th>\n",
       "      <td>895</td>\n",
       "      <td>3</td>\n",
       "      <td>Wirz, Mr. Albert</td>\n",
       "      <td>male</td>\n",
       "      <td>27.0</td>\n",
       "      <td>0</td>\n",
       "      <td>0</td>\n",
       "      <td>315154</td>\n",
       "      <td>8.6625</td>\n",
       "      <td>NaN</td>\n",
       "      <td>S</td>\n",
       "    </tr>\n",
       "    <tr>\n",
       "      <th>4</th>\n",
       "      <td>896</td>\n",
       "      <td>3</td>\n",
       "      <td>Hirvonen, Mrs. Alexander (Helga E Lindqvist)</td>\n",
       "      <td>female</td>\n",
       "      <td>22.0</td>\n",
       "      <td>1</td>\n",
       "      <td>1</td>\n",
       "      <td>3101298</td>\n",
       "      <td>12.2875</td>\n",
       "      <td>NaN</td>\n",
       "      <td>S</td>\n",
       "    </tr>\n",
       "  </tbody>\n",
       "</table>\n",
       "</div>"
      ],
      "text/plain": [
       "   PassengerId  Pclass                                          Name     Sex  \\\n",
       "0          892       3                              Kelly, Mr. James    male   \n",
       "1          893       3              Wilkes, Mrs. James (Ellen Needs)  female   \n",
       "2          894       2                     Myles, Mr. Thomas Francis    male   \n",
       "3          895       3                              Wirz, Mr. Albert    male   \n",
       "4          896       3  Hirvonen, Mrs. Alexander (Helga E Lindqvist)  female   \n",
       "\n",
       "    Age  SibSp  Parch   Ticket     Fare Cabin Embarked  \n",
       "0  34.5      0      0   330911   7.8292   NaN        Q  \n",
       "1  47.0      1      0   363272   7.0000   NaN        S  \n",
       "2  62.0      0      0   240276   9.6875   NaN        Q  \n",
       "3  27.0      0      0   315154   8.6625   NaN        S  \n",
       "4  22.0      1      1  3101298  12.2875   NaN        S  "
      ]
     },
     "execution_count": 5,
     "metadata": {},
     "output_type": "execute_result"
    }
   ],
   "source": [
    "test_data.head()"
   ]
  },
  {
   "cell_type": "code",
   "execution_count": 6,
   "id": "51705bad",
   "metadata": {
    "execution": {
     "iopub.execute_input": "2021-08-14T22:17:53.754743Z",
     "iopub.status.busy": "2021-08-14T22:17:53.754098Z",
     "iopub.status.idle": "2021-08-14T22:17:53.756589Z",
     "shell.execute_reply": "2021-08-14T22:17:53.756005Z",
     "shell.execute_reply.started": "2021-08-14T22:10:06.165893Z"
    },
    "papermill": {
     "duration": 0.020273,
     "end_time": "2021-08-14T22:17:53.756726",
     "exception": false,
     "start_time": "2021-08-14T22:17:53.736453",
     "status": "completed"
    },
    "tags": []
   },
   "outputs": [],
   "source": [
    "target = train_data[\"Survived\"]"
   ]
  },
  {
   "cell_type": "code",
   "execution_count": 7,
   "id": "59dcd16a",
   "metadata": {
    "execution": {
     "iopub.execute_input": "2021-08-14T22:17:53.798117Z",
     "iopub.status.busy": "2021-08-14T22:17:53.797130Z",
     "iopub.status.idle": "2021-08-14T22:17:53.801290Z",
     "shell.execute_reply": "2021-08-14T22:17:53.802016Z",
     "shell.execute_reply.started": "2021-08-14T22:10:11.768584Z"
    },
    "papermill": {
     "duration": 0.029095,
     "end_time": "2021-08-14T22:17:53.802263",
     "exception": false,
     "start_time": "2021-08-14T22:17:53.773168",
     "status": "completed"
    },
    "tags": []
   },
   "outputs": [
    {
     "data": {
      "text/plain": [
       "0      0\n",
       "1      1\n",
       "2      1\n",
       "3      1\n",
       "4      0\n",
       "      ..\n",
       "886    0\n",
       "887    1\n",
       "888    0\n",
       "889    1\n",
       "890    0\n",
       "Name: Survived, Length: 891, dtype: int64"
      ]
     },
     "execution_count": 7,
     "metadata": {},
     "output_type": "execute_result"
    }
   ],
   "source": [
    "target"
   ]
  },
  {
   "cell_type": "code",
   "execution_count": 8,
   "id": "9130c912",
   "metadata": {
    "execution": {
     "iopub.execute_input": "2021-08-14T22:17:53.841264Z",
     "iopub.status.busy": "2021-08-14T22:17:53.840298Z",
     "iopub.status.idle": "2021-08-14T22:17:53.843159Z",
     "shell.execute_reply": "2021-08-14T22:17:53.842587Z",
     "shell.execute_reply.started": "2021-08-14T22:11:06.012644Z"
    },
    "papermill": {
     "duration": 0.020933,
     "end_time": "2021-08-14T22:17:53.843297",
     "exception": false,
     "start_time": "2021-08-14T22:17:53.822364",
     "status": "completed"
    },
    "tags": []
   },
   "outputs": [],
   "source": [
    "features = [\"Pclass\", \"Sex\", \"SibSp\", \"Parch\"]"
   ]
  },
  {
   "cell_type": "code",
   "execution_count": 9,
   "id": "5146b807",
   "metadata": {
    "execution": {
     "iopub.execute_input": "2021-08-14T22:17:53.873653Z",
     "iopub.status.busy": "2021-08-14T22:17:53.872693Z",
     "iopub.status.idle": "2021-08-14T22:17:53.890512Z",
     "shell.execute_reply": "2021-08-14T22:17:53.890972Z",
     "shell.execute_reply.started": "2021-08-14T22:13:06.078712Z"
    },
    "papermill": {
     "duration": 0.033527,
     "end_time": "2021-08-14T22:17:53.891154",
     "exception": false,
     "start_time": "2021-08-14T22:17:53.857627",
     "status": "completed"
    },
    "tags": []
   },
   "outputs": [],
   "source": [
    "X = pd.get_dummies(train_data[features])\n",
    "x_test = pd.get_dummies(test_data[features])"
   ]
  },
  {
   "cell_type": "code",
   "execution_count": 10,
   "id": "662d1862",
   "metadata": {
    "execution": {
     "iopub.execute_input": "2021-08-14T22:17:53.920330Z",
     "iopub.status.busy": "2021-08-14T22:17:53.919362Z",
     "iopub.status.idle": "2021-08-14T22:17:54.451712Z",
     "shell.execute_reply": "2021-08-14T22:17:54.451116Z",
     "shell.execute_reply.started": "2021-08-14T22:14:58.088711Z"
    },
    "papermill": {
     "duration": 0.54785,
     "end_time": "2021-08-14T22:17:54.451858",
     "exception": false,
     "start_time": "2021-08-14T22:17:53.904008",
     "status": "completed"
    },
    "tags": []
   },
   "outputs": [],
   "source": [
    "model = RandomForestClassifier(n_estimators=250,max_depth=7,random_state=1)\n",
    "model.fit(X,target)\n",
    "predictions = model.predict(x_test)"
   ]
  },
  {
   "cell_type": "code",
   "execution_count": 11,
   "id": "2a1e5c96",
   "metadata": {
    "execution": {
     "iopub.execute_input": "2021-08-14T22:17:54.483276Z",
     "iopub.status.busy": "2021-08-14T22:17:54.482630Z",
     "iopub.status.idle": "2021-08-14T22:17:54.485335Z",
     "shell.execute_reply": "2021-08-14T22:17:54.484829Z",
     "shell.execute_reply.started": "2021-08-14T22:16:29.779308Z"
    },
    "papermill": {
     "duration": 0.020779,
     "end_time": "2021-08-14T22:17:54.485467",
     "exception": false,
     "start_time": "2021-08-14T22:17:54.464688",
     "status": "completed"
    },
    "tags": []
   },
   "outputs": [],
   "source": [
    "output = pd.DataFrame({\"PassengerId\":test_data.PassengerId, \"Survived\":predictions})"
   ]
  },
  {
   "cell_type": "code",
   "execution_count": 12,
   "id": "47423112",
   "metadata": {
    "execution": {
     "iopub.execute_input": "2021-08-14T22:17:54.514769Z",
     "iopub.status.busy": "2021-08-14T22:17:54.514070Z",
     "iopub.status.idle": "2021-08-14T22:17:54.521044Z",
     "shell.execute_reply": "2021-08-14T22:17:54.520531Z",
     "shell.execute_reply.started": "2021-08-14T22:17:15.917796Z"
    },
    "papermill": {
     "duration": 0.023213,
     "end_time": "2021-08-14T22:17:54.521178",
     "exception": false,
     "start_time": "2021-08-14T22:17:54.497965",
     "status": "completed"
    },
    "tags": []
   },
   "outputs": [],
   "source": [
    "output.to_csv(\"my_submission.csv\", index=False)"
   ]
  },
  {
   "cell_type": "code",
   "execution_count": null,
   "id": "630ad1d1",
   "metadata": {
    "papermill": {
     "duration": 0.012255,
     "end_time": "2021-08-14T22:17:54.545979",
     "exception": false,
     "start_time": "2021-08-14T22:17:54.533724",
     "status": "completed"
    },
    "tags": []
   },
   "outputs": [],
   "source": []
  }
 ],
 "metadata": {
  "kernelspec": {
   "display_name": "Python 3",
   "language": "python",
   "name": "python3"
  },
  "language_info": {
   "codemirror_mode": {
    "name": "ipython",
    "version": 3
   },
   "file_extension": ".py",
   "mimetype": "text/x-python",
   "name": "python",
   "nbconvert_exporter": "python",
   "pygments_lexer": "ipython3",
   "version": "3.7.10"
  },
  "papermill": {
   "default_parameters": {},
   "duration": 10.583841,
   "end_time": "2021-08-14T22:17:55.268503",
   "environment_variables": {},
   "exception": null,
   "input_path": "__notebook__.ipynb",
   "output_path": "__notebook__.ipynb",
   "parameters": {},
   "start_time": "2021-08-14T22:17:44.684662",
   "version": "2.3.3"
  }
 },
 "nbformat": 4,
 "nbformat_minor": 5
}
